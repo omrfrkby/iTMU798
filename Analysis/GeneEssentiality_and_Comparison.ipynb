{
 "cells": [
  {
   "cell_type": "code",
   "execution_count": null,
   "id": "b10a48d8",
   "metadata": {},
   "outputs": [],
   "source": [
    "import cobra\n",
    "import venn"
   ]
  },
  {
   "cell_type": "code",
   "execution_count": null,
   "id": "34ca7d4a",
   "metadata": {},
   "outputs": [],
   "source": [
    "iTMU798 = cobra.io.load_json_model('iTMU798.json')\n",
    "iCEL1314 = cobra.io.load_json_model('iCEL1314.json')\n",
    "iDC625 = cobra.io.read_sbml_model('iDC625.xml')\n",
    "worm1 = cobra.io.read_sbml_model('Worm1.xml')"
   ]
  },
  {
   "cell_type": "code",
   "execution_count": null,
   "id": "c2fb35f3",
   "metadata": {},
   "outputs": [],
   "source": [
    "file_OGEE = open('Caenorhabditis_elegans_genes_OGEE.csv','r')\n",
    "OGEE = {}\n",
    "for i in file_OGEE:\n",
    "    OGEE_for_worm1 = {}\n",
    "    OGEE_for_worm1[str(i.strip().split(',')[3])] = str(i.strip().split(',')[4])\n",
    "    OGEE[str(i.strip().split(',')[2])] = OGEE_for_worm1\n",
    "OGEE\n",
    "    "
   ]
  },
  {
   "cell_type": "code",
   "execution_count": null,
   "id": "cf3e86b1",
   "metadata": {},
   "outputs": [],
   "source": [
    "iTMU798"
   ]
  },
  {
   "cell_type": "code",
   "execution_count": null,
   "id": "2eab60e6",
   "metadata": {},
   "outputs": [],
   "source": [
    "iCEL1314"
   ]
  },
  {
   "cell_type": "code",
   "execution_count": null,
   "id": "58e14c90",
   "metadata": {},
   "outputs": [],
   "source": [
    "iDC625"
   ]
  },
  {
   "cell_type": "code",
   "execution_count": null,
   "id": "c53ec95b",
   "metadata": {
    "scrolled": true
   },
   "outputs": [],
   "source": [
    "worm1"
   ]
  },
  {
   "cell_type": "code",
   "execution_count": null,
   "id": "2f51e13b",
   "metadata": {
    "scrolled": true
   },
   "outputs": [],
   "source": [
    "Essential_file_with_expresssion = open('Essential_genes_expression_average.tsv','r')\n",
    "iTMU798_essential_genes = {}\n",
    "for i in Essential_file_with_expresssion:\n",
    "    iTMU798_essential_genes[str(i.strip().split('\\t')[0])] = str(i.strip().split('\\t')[1])\n",
    "    \n",
    "#del(iTMU798_essential_genes[0])\n",
    "iTMU798_essential_genes\n",
    "    "
   ]
  },
  {
   "cell_type": "code",
   "execution_count": null,
   "id": "7bb32af2",
   "metadata": {
    "scrolled": true
   },
   "outputs": [],
   "source": [
    "\n",
    "iCEL1314_essential_genes = cobra.flux_analysis.find_essential_genes(iCEL1314)\n",
    "iDC625_essential_genes = cobra.flux_analysis.find_essential_genes(iDC625)\n",
    "worm1_essential_genes = cobra.flux_analysis.find_essential_genes(worm1)"
   ]
  },
  {
   "cell_type": "code",
   "execution_count": null,
   "id": "48f00f44",
   "metadata": {},
   "outputs": [],
   "source": [
    "print(len(iTMU798_essential_genes))\n",
    "print(len(iCEL1314_essential_genes))\n",
    "print(len(iDC625_essential_genes))\n",
    "print(len(worm1_essential_genes))"
   ]
  },
  {
   "cell_type": "code",
   "execution_count": null,
   "id": "153a50d7",
   "metadata": {
    "scrolled": true
   },
   "outputs": [],
   "source": [
    "iTMU798_essential_genes"
   ]
  },
  {
   "cell_type": "code",
   "execution_count": null,
   "id": "66dda4a0",
   "metadata": {},
   "outputs": [],
   "source": [
    "iCEL1314_essential_genes"
   ]
  },
  {
   "cell_type": "code",
   "execution_count": null,
   "id": "9a490ce4",
   "metadata": {
    "scrolled": true
   },
   "outputs": [],
   "source": [
    "worm1_essential_genes"
   ]
  },
  {
   "cell_type": "code",
   "execution_count": null,
   "id": "e0cc5f75",
   "metadata": {},
   "outputs": [],
   "source": [
    "file_essential_bma = open('Bmalayi_essential_genes.txt','r')\n",
    "bma_essential_genes = []\n",
    "\n",
    "for i in file_essential_bma:\n",
    "    bma_essential_genes.append(i.strip().split('\\t'))"
   ]
  },
  {
   "cell_type": "code",
   "execution_count": null,
   "id": "acdb819b",
   "metadata": {},
   "outputs": [],
   "source": [
    "bma_essential_genes"
   ]
  },
  {
   "cell_type": "code",
   "execution_count": null,
   "id": "66151c5d",
   "metadata": {},
   "outputs": [],
   "source": [
    "file_ortholog = open('tm_cel_orthologs.txt','r')\n",
    "orthologs_tm_cel = []\n",
    "for i in file_ortholog:\n",
    "    orthologs_tm_cel.append(i.strip().split('\\t'))\n",
    "\n",
    "    \n",
    "file_ortholog_bma = open('tm_bma_orthologs.txt','r')\n",
    "orthologs_tm_bma = []\n",
    "for i in file_ortholog_bma:\n",
    "    orthologs_tm_bma.append(i.strip().split('\\t'))\n",
    " \n",
    "\n",
    "file_ortholog_gene_names = open('tm_cel_orthologs_gene_names.txt','r')\n",
    "orthologs_tm_cel_gene_names = []\n",
    "for i in file_ortholog_gene_names:\n",
    "    orthologs_tm_cel_gene_names.append(i.strip().split('\\t'))"
   ]
  },
  {
   "cell_type": "code",
   "execution_count": null,
   "id": "0dd221f9",
   "metadata": {},
   "outputs": [],
   "source": [
    "dict_tm_ess_orthologs = {}\n",
    "\n",
    "for i in iTMU798_essential_genes:\n",
    "    cel_orts = []\n",
    "    if i.startswith('TMU'):\n",
    "        dict_tm_ess_orthologs[str(i)] = ''\n",
    "        for l in orthologs_tm_cel:\n",
    "            if i == l[0]:\n",
    "                try:\n",
    "                    cel_orts.append(l[1])\n",
    "                except Exception:\n",
    "                    cel_orts.append('no_cel_ortholog')\n",
    "            dict_tm_ess_orthologs[str(i)] = ','.join(cel_orts)"
   ]
  },
  {
   "cell_type": "code",
   "execution_count": null,
   "id": "6224d2f1",
   "metadata": {},
   "outputs": [],
   "source": [
    "##### T. muris essential genes in iTMU798 and their C. elegans orthologs\n",
    "\n",
    "dict_tm_ess_orthologs"
   ]
  },
  {
   "cell_type": "code",
   "execution_count": null,
   "id": "2a48db39",
   "metadata": {},
   "outputs": [],
   "source": [
    "dict_tm_ess_orthologs_forbma = {}\n",
    "\n",
    "for i in iTMU798_essential_genes:\n",
    "    bma_orts = []\n",
    "    if i.startswith('TMU'):\n",
    "        dict_tm_ess_orthologs_forbma[str(i)] = ''\n",
    "        for l in orthologs_tm_bma:\n",
    "            if i == l[0]:\n",
    "                try:\n",
    "                    bma_orts.append(l[1].split('.')[0])\n",
    "                except Exception:\n",
    "                    bma_orts.append('no_bma_ortholog')\n",
    "            dict_tm_ess_orthologs_forbma[str(i)] = ','.join(bma_orts)"
   ]
  },
  {
   "cell_type": "code",
   "execution_count": null,
   "id": "daeb7cec",
   "metadata": {},
   "outputs": [],
   "source": [
    "dict_tm_ess_orthologs_forbma"
   ]
  },
  {
   "cell_type": "code",
   "execution_count": null,
   "id": "c3230a87",
   "metadata": {},
   "outputs": [],
   "source": [
    "dict_tm_ess_orthologs_gene_names = {}\n",
    "\n",
    "for i in iTMU798_essential_genes:\n",
    "    cel_orts_gene_names = []\n",
    "    if i.startswith('TMU'):\n",
    "        dict_tm_ess_orthologs_gene_names[str(i)] = ''\n",
    "        for l in orthologs_tm_cel_gene_names:\n",
    "            if i == l[0]:\n",
    "                try:\n",
    "                    cel_orts_gene_names.append(l[1])\n",
    "                except Exception:\n",
    "                    cel_orts_gene_names.append('no_cel_ortholog')\n",
    "            dict_tm_ess_orthologs_gene_names[str(i)] = ','.join(cel_orts_gene_names)"
   ]
  },
  {
   "cell_type": "code",
   "execution_count": null,
   "id": "95c177fd",
   "metadata": {},
   "outputs": [],
   "source": [
    "dict_tm_ess_orthologs_gene_names"
   ]
  },
  {
   "cell_type": "code",
   "execution_count": null,
   "id": "f9595918",
   "metadata": {
    "scrolled": true
   },
   "outputs": [],
   "source": [
    "file_itmu798_icel1314 = open('iTMU798_iCEL1314_essential_genes_comparison.tsv','w')\n",
    "file_itmu798_icel1314.write('iTMU798 essential genes, their orthologs in C. elegans and their essentiality in iCEL1314'+'\\n\\n')\n",
    "\n",
    "file_itmu798_icel1314.write('T.muris Gene Name'+'\\t'+'Expression Average (TPM) L2(n=1)|L3(n=3)|Adult(n=7)'+'\\t'+'C. elegans ortholog'+'\\t'+'iCEL1314 essentiality'+'\\n')\n",
    "\n",
    "\n",
    "for i in dict_tm_ess_orthologs:\n",
    "    if i.startswith('TMUE'):\n",
    "        file_itmu798_icel1314.write(str(i)+'\\t'+str(iTMU798_essential_genes[i])+'\\t'+str(dict_tm_ess_orthologs[i])+'\\t')\n",
    "        if dict_tm_ess_orthologs[i].startswith('WBG'):\n",
    "            text_add = []\n",
    "            for k in dict_tm_ess_orthologs[i].split(','):\n",
    "                for l in iCEL1314_essential_genes:\n",
    "                    if str(l.id) == k:\n",
    "                        text_add.append('TRUE')\n",
    "            file_itmu798_icel1314.write(','.join(text_add[:]))\n",
    "                \n",
    "            file_itmu798_icel1314.write('\\t')\n",
    "            text_add_2 = []\n",
    "            for l in dict_tm_ess_orthologs[i].split(','):\n",
    "                try:\n",
    "                    if OGEE[str(l)] == 'E':\n",
    "                        text_add_2.append('Essential')                            \n",
    "                except Exception:\n",
    "                    pass\n",
    "            \n",
    "            file_itmu798_icel1314.write(','.join(text_add_2[:]))\n",
    "                \n",
    "        \n",
    "                    \n",
    "        file_itmu798_icel1314.write('\\n')\n",
    "file_itmu798_icel1314.close()\n",
    "\n"
   ]
  },
  {
   "cell_type": "code",
   "execution_count": null,
   "id": "f6a28bd9",
   "metadata": {},
   "outputs": [],
   "source": []
  },
  {
   "cell_type": "code",
   "execution_count": null,
   "id": "8d7f3f88",
   "metadata": {},
   "outputs": [],
   "source": [
    "file_itmu798_idc625 = open('iTMU798_iDC625_essential_genes_comparison.tsv','w')\n",
    "file_itmu798_idc625.write('iTMU798 essential genes, their orthologs in B. malayi and their essentiality in iDC625'+'\\n\\n')\n",
    "file_itmu798_idc625.write('T.muris Gene Name'+'\\t'+'B. malayi ortholog'+'\\t'+'iDC625 essentiality'+'\\n')\n",
    "\n",
    "\n",
    "for i in dict_tm_ess_orthologs_forbma:\n",
    "    if i.startswith('TMUE'):\n",
    "        file_itmu798_idc625.write(str(i)+'\\t'+str(dict_tm_ess_orthologs_forbma[i])+'\\t')\n",
    "        if dict_tm_ess_orthologs_forbma[i].startswith('Bm'):\n",
    "            for k in dict_tm_ess_orthologs_forbma[i].split(','):\n",
    "                for l in bma_essential_genes:\n",
    "                    if str(l[0]) == k:\n",
    "                        file_itmu798_idc625.write('TRUE')\n",
    "        \n",
    "                    \n",
    "        file_itmu798_idc625.write('\\n')\n",
    "file_itmu798_idc625.close()\n"
   ]
  },
  {
   "cell_type": "code",
   "execution_count": null,
   "id": "9eaa4c68",
   "metadata": {},
   "outputs": [],
   "source": [
    "file_itmu798_worm1 = open('iTMU798_Worm1_essential_genes_comparison.tsv','w')\n",
    "file_itmu798_worm1.write('iTMU798 essential genes, their orthologs in C. elegans and their essentiality in worm1'+'\\n\\n')\n",
    "\n",
    "file_itmu798_worm1.write('T.muris Gene Name'+'\\t'+'C. elegans ortholog'+'\\t'+'Worm1 essentiality'+'\\n')\n",
    "\n",
    "\n",
    "for i in dict_tm_ess_orthologs_gene_names:\n",
    "    if i.startswith('TMUE'):\n",
    "        file_itmu798_worm1.write(str(i)+'\\t'+str(dict_tm_ess_orthologs_gene_names[i])+'\\t')\n",
    "        if not dict_tm_ess_orthologs_gene_names[i].startswith('no_ort'):\n",
    "            for k in dict_tm_ess_orthologs_gene_names[i].split(','):\n",
    "                for l in worm1_essential_genes:\n",
    "                    if str(l.id) == k:\n",
    "                        file_itmu798_worm1.write('TRUE')\n",
    "        \n",
    "                    \n",
    "        file_itmu798_worm1.write('\\n')\n",
    "file_itmu798_worm1.close()\n",
    "\n"
   ]
  },
  {
   "cell_type": "code",
   "execution_count": null,
   "id": "e622a671",
   "metadata": {},
   "outputs": [],
   "source": [
    "OGEE_essentials_only = {}\n",
    "list_OGEE_essentials_only = []\n",
    "\n",
    "for i in OGEE:\n",
    "    for l in OGEE[str(i)]:\n",
    "        if OGEE[str(i)][str(l)] == 'E':\n",
    "            list_OGEE_essentials_only.append(str(i))\n",
    "            OGEE_essentials_only[str(i)] = str(l)\n",
    "            "
   ]
  },
  {
   "cell_type": "code",
   "execution_count": null,
   "id": "0f36e03e",
   "metadata": {},
   "outputs": [],
   "source": [
    "len(list_OGEE_essentials_only)"
   ]
  },
  {
   "cell_type": "code",
   "execution_count": null,
   "id": "80e78a17",
   "metadata": {},
   "outputs": [],
   "source": []
  },
  {
   "cell_type": "code",
   "execution_count": null,
   "id": "c764b9d4",
   "metadata": {},
   "outputs": [],
   "source": [
    "iCEL1314_OGEE_essential_genes_for_plot = []\n",
    "iCEL1314_essential_genes_for_plot = []\n",
    "\n",
    "for i in iCEL1314_essential_genes:\n",
    "    iCEL1314_essential_genes_for_plot.append(str(i.id))\n",
    "    try:\n",
    "        if OGEE_essentials_only[str(i.id)]:\n",
    "            iCEL1314_OGEE_essential_genes_for_plot.append(str(i.id))\n",
    "    except Exception:\n",
    "        pass"
   ]
  },
  {
   "cell_type": "code",
   "execution_count": null,
   "id": "8e80e088",
   "metadata": {},
   "outputs": [],
   "source": [
    "len(set(iCEL1314_OGEE_essential_genes_for_plot))"
   ]
  },
  {
   "cell_type": "code",
   "execution_count": null,
   "id": "73659b80",
   "metadata": {},
   "outputs": [],
   "source": [
    "file_cel_genename_geneID = open('Cel_geneIDs_geneNames.txt','r')\n",
    "cel_genename_geneID = []\n",
    "\n",
    "for i in file_cel_genename_geneID:\n",
    "    cel_genename_geneID.append(i.strip().split('\\t'))\n",
    "    "
   ]
  },
  {
   "cell_type": "code",
   "execution_count": null,
   "id": "f1221308",
   "metadata": {
    "scrolled": true
   },
   "outputs": [],
   "source": [
    "cel_genename_geneID"
   ]
  },
  {
   "cell_type": "code",
   "execution_count": null,
   "id": "3a531991",
   "metadata": {},
   "outputs": [],
   "source": [
    "worm1_OGEE_essential_genes_for_plot = []\n",
    "worm1_essential_genes_for_plot = []\n",
    "\n",
    "for i in worm1_essential_genes:\n",
    "    for t in cel_genename_geneID:\n",
    "        if t[1] == i.id:\n",
    "            worm1_essential_genes_for_plot.append(t[0])"
   ]
  },
  {
   "cell_type": "code",
   "execution_count": null,
   "id": "7d655a88",
   "metadata": {},
   "outputs": [],
   "source": [
    "len(set(worm1_essential_genes_for_plot))"
   ]
  },
  {
   "cell_type": "code",
   "execution_count": null,
   "id": "00bf9ab9",
   "metadata": {},
   "outputs": [],
   "source": [
    "itmu798_essential_genes_for_plot = []\n",
    "\n",
    "for i in dict_tm_ess_orthologs:\n",
    "    if len(dict_tm_ess_orthologs[i].split(',')) > 1:\n",
    "        if dict_tm_ess_orthologs[i].split(',')[0].startswith('WB'):\n",
    "            itmu798_essential_genes_for_plot.append(dict_tm_ess_orthologs[i].split(',')[0])\n",
    "        elif dict_tm_ess_orthologs[i].split(',')[0].startswith(\"no\"):\n",
    "            itmu798_essential_genes_for_plot.append(str(i))\n",
    "    else:\n",
    "        if dict_tm_ess_orthologs[i].startswith('WB'):\n",
    "            itmu798_essential_genes_for_plot.append(dict_tm_ess_orthologs[i])\n",
    "        elif dict_tm_ess_orthologs[i].startswith('no'):\n",
    "            itmu798_essential_genes_for_plot.append(str(i))"
   ]
  },
  {
   "cell_type": "code",
   "execution_count": null,
   "id": "473d8399",
   "metadata": {},
   "outputs": [],
   "source": [
    "len(set(itmu798_essential_genes_for_plot))"
   ]
  },
  {
   "cell_type": "code",
   "execution_count": null,
   "id": "c756a018",
   "metadata": {
    "scrolled": true
   },
   "outputs": [],
   "source": [
    "set(itmu798_essential_genes_for_plot)"
   ]
  },
  {
   "cell_type": "code",
   "execution_count": null,
   "id": "20ddcb39",
   "metadata": {},
   "outputs": [],
   "source": []
  },
  {
   "cell_type": "code",
   "execution_count": null,
   "id": "e574f0ea",
   "metadata": {},
   "outputs": [],
   "source": [
    "labels = venn.get_labels([set(itmu798_essential_genes_for_plot), set(iCEL1314_essential_genes_for_plot), set(worm1_essential_genes_for_plot),set(list_OGEE_essentials_only)], fill=['number'])\n",
    "fig, ax = venn.venn4(labels, names=['iTMU798', 'iCEL1314', 'Worm1', 'C. elegans (OGEE)'],fontsize=16)\n",
    "fig.savefig('Essential genes comparison with OGEE.jpeg', dpi=600 )\n"
   ]
  },
  {
   "cell_type": "code",
   "execution_count": null,
   "id": "75ccc473",
   "metadata": {},
   "outputs": [],
   "source": []
  }
 ],
 "metadata": {
  "kernelspec": {
   "display_name": "Python 3 (ipykernel)",
   "language": "python",
   "name": "python3"
  },
  "language_info": {
   "codemirror_mode": {
    "name": "ipython",
    "version": 3
   },
   "file_extension": ".py",
   "mimetype": "text/x-python",
   "name": "python",
   "nbconvert_exporter": "python",
   "pygments_lexer": "ipython3",
   "version": "3.9.15"
  }
 },
 "nbformat": 4,
 "nbformat_minor": 5
}
