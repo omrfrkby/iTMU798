{
 "cells": [
  {
   "cell_type": "code",
   "execution_count": null,
   "id": "45c43fb4",
   "metadata": {},
   "outputs": [],
   "source": [
    "import cobra"
   ]
  },
  {
   "cell_type": "code",
   "execution_count": null,
   "id": "a52f2b84",
   "metadata": {},
   "outputs": [],
   "source": [
    "iTMU798 = cobra.io.load_json_model('iTMU798.json')\n"
   ]
  },
  {
   "cell_type": "code",
   "execution_count": null,
   "id": "28284921",
   "metadata": {
    "scrolled": true
   },
   "outputs": [],
   "source": [
    "iTMU798_essential_genes = cobra.flux_analysis.find_essential_genes(iTMU798)"
   ]
  },
  {
   "cell_type": "code",
   "execution_count": null,
   "id": "683c1457",
   "metadata": {},
   "outputs": [],
   "source": [
    "file_tm = open('Tm_TMUE_WBGene.txt','r')\n",
    "tmue_wbgene = []\n",
    "\n",
    "for i in file_tm:\n",
    "    tmue_wbgene.append(i.strip().split('\\t'))"
   ]
  },
  {
   "cell_type": "code",
   "execution_count": null,
   "id": "628a8c43",
   "metadata": {},
   "outputs": [],
   "source": [
    "file_metadata = open('ERP002000.metadata_per_run.tsv','r')\n",
    "file_expression = open('ERP002000.tpm_per_run.tsv','r')\n",
    "\n",
    "metadata = []\n",
    "expression = []\n",
    "\n",
    "for i in file_metadata:\n",
    "    metadata.append(i.strip().split('\\t'))\n",
    "    \n",
    "for i in file_expression:\n",
    "    expression.append(i.strip().split('\\t'))"
   ]
  },
  {
   "cell_type": "code",
   "execution_count": null,
   "id": "bd31aba7",
   "metadata": {
    "scrolled": true
   },
   "outputs": [],
   "source": [
    "metadata"
   ]
  },
  {
   "cell_type": "code",
   "execution_count": null,
   "id": "fd04fc22",
   "metadata": {},
   "outputs": [],
   "source": [
    "output_file = open('Essential_genes_expression_average.tsv','w')\n",
    "output_file.write('Essential gene ID in iTMU798'+'\\t'+\n",
    "               str(metadata[1][1]+'(n=1)')+'|'+str(metadata[3][1]+'(n=3)')+'|'+str(metadata[7][1]+'(n=7)')+'\\n')\n",
    "\n",
    "for i in iTMU798_essential_genes:\n",
    "    if i.id.startswith('TMU'):\n",
    "\n",
    "        output_file.write(str(i.id)+'\\t')\n",
    "\n",
    "        for l in tmue_wbgene:\n",
    "            if i.id == l[0]:\n",
    "                for t in expression:\n",
    "                    if l[1] == t[0]:\n",
    "                        L2 = round(float(t[1]),2)\n",
    "                        L3 = round(((float(t[2]) + float(t[3]) + float(t[4]))/ 3),2)\n",
    "                        Adult = round(((float(t[5]) + float(t[6]) + float(t[7]) + float(t[8]) + float(t[9]) + float(t[10]) + float(t[11]))/ 7),2)\n",
    "                        \n",
    "                        output_file.write(str(L2)+'|'+\n",
    "                                       str(L3)+'|'+\n",
    "                                       str(Adult))\n",
    "        output_file.write('\\n')\n",
    "    \n",
    "output_file.close()"
   ]
  },
  {
   "cell_type": "code",
   "execution_count": null,
   "id": "8d7aa2c9",
   "metadata": {},
   "outputs": [],
   "source": []
  },
  {
   "cell_type": "code",
   "execution_count": null,
   "id": "97fb23ac",
   "metadata": {
    "scrolled": true
   },
   "outputs": [],
   "source": [
    "fileEssentialGenes = open('iTMU798_iCEL1314_Worm1_iDC625_essential_genes_comparison_with_expression_data.tsv', 'r')\n",
    "fileL1_24h = open('L1_24hr_TPMs.txt','r')\n",
    "\n",
    "EssentialGenes = []\n",
    "L1_24h = []\n",
    "\n",
    "for i in fileEssentialGenes:\n",
    "    EssentialGenes.append(i.strip().split('\\t'))\n",
    "    \n",
    "for l in fileL1_24h:\n",
    "    L1_24h.append(l.strip().split('\\t'))"
   ]
  },
  {
   "cell_type": "code",
   "execution_count": null,
   "id": "6a9b23f9",
   "metadata": {},
   "outputs": [],
   "source": [
    "output = open('EssentialGenesExpressionL124hr.tsv','w')\n",
    "\n",
    "for i in EssentialGenes:\n",
    "    output.write(str(i[0])+'\\t')\n",
    "    for l in L1_24h:\n",
    "        if i[0] == l[0]:\n",
    "            newcount = round(float(l[-1]),2)\n",
    "            output.write(str(newcount))\n",
    "    output.write('\\n')\n",
    "    \n",
    "output.close()"
   ]
  },
  {
   "cell_type": "code",
   "execution_count": null,
   "id": "0d64ea89",
   "metadata": {},
   "outputs": [],
   "source": []
  },
  {
   "cell_type": "code",
   "execution_count": null,
   "id": "6c8cd808",
   "metadata": {},
   "outputs": [],
   "source": []
  },
  {
   "cell_type": "code",
   "execution_count": null,
   "id": "ce442aab",
   "metadata": {},
   "outputs": [],
   "source": []
  },
  {
   "cell_type": "code",
   "execution_count": null,
   "id": "255ba5c4",
   "metadata": {
    "scrolled": true
   },
   "outputs": [],
   "source": []
  },
  {
   "cell_type": "code",
   "execution_count": null,
   "id": "85339038",
   "metadata": {},
   "outputs": [],
   "source": []
  }
 ],
 "metadata": {
  "kernelspec": {
   "display_name": "Python 3 (ipykernel)",
   "language": "python",
   "name": "python3"
  },
  "language_info": {
   "codemirror_mode": {
    "name": "ipython",
    "version": 3
   },
   "file_extension": ".py",
   "mimetype": "text/x-python",
   "name": "python",
   "nbconvert_exporter": "python",
   "pygments_lexer": "ipython3",
   "version": "3.9.15"
  }
 },
 "nbformat": 4,
 "nbformat_minor": 5
}
