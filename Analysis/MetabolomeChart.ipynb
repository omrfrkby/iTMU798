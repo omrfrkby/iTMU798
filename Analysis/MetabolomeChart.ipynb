{
 "cells": [
  {
   "cell_type": "code",
   "execution_count": null,
   "id": "7539c930",
   "metadata": {},
   "outputs": [],
   "source": [
    "import cobra\n",
    "import venn"
   ]
  },
  {
   "cell_type": "code",
   "execution_count": null,
   "id": "a08fb6ce",
   "metadata": {},
   "outputs": [],
   "source": [
    "iTMU798 = cobra.io.load_json_model('iTMU798.json')\n"
   ]
  },
  {
   "cell_type": "code",
   "execution_count": null,
   "id": "d7cafda5",
   "metadata": {},
   "outputs": [],
   "source": [
    "iTMU798_Mets = []\n",
    "\n",
    "for i in iTMU798.metabolites:\n",
    "    try:\n",
    "        if type(i.annotation['kegg.compound']) == list:\n",
    "            for l in i.annotation['kegg.compound']:\n",
    "                iTMU798_Mets.append(str(l)[1:])\n",
    "        elif type(i.annotation['kegg.compound']) == str:\n",
    "            iTMU798_Mets.append(str(i.annotation['kegg.compound']))\n",
    "    except Exception:\n",
    "        try:\n",
    "            iTMU798_Mets.append(str(i.annotation['chebi']))\n",
    "        except Exception:\n",
    "            try:\n",
    "                iTMU798_Mets.append(str(i.annotation['pubchem.compound']))\n",
    "            except Exception:\n",
    "                for t in i.reactions:\n",
    "                    if t.subsystem == \"Biomass\":\n",
    "                        pass\n",
    "                        #print(i.name)\n",
    "                    else:\n",
    "                        iTMU798_Mets.append(str(i.name))"
   ]
  },
  {
   "cell_type": "code",
   "execution_count": null,
   "id": "87eaa0a4",
   "metadata": {},
   "outputs": [],
   "source": [
    "PMID_33171998 = ['C00147','C00212','C00294','C00318','C00114','C01152','C00385','C00049','C00042','C00430','C00020','C00262','C00243',\n",
    "               'C00025','C00073','C00135','C00156','C00082','C00559','C00092','C00408','C00392','C00956','C00575','C02714','C00178',\n",
    "               'C00123','C00785','C08261','C01384','C00258','C00327','C00148','C00065','C00188','C00078','C00183','CHEBI:61961','C00250','C01181']\n",
    "\n",
    "PMID_31254203 = ['C00041','C00334','C00049','C00064','C00073','C00079','C01157','C00078','C00082','C00329','C01879',\n",
    "                 'C00642','C02979','C00147','C00417','C00158','C00311','C00186','C00149','C00257','C00042','C00898',\n",
    "                 'C00074','C00299','C00095','C01971','C01394','C00116','C00392','NA_1','C00137','C00474','C00794',\n",
    "                 'C00085','C01113','C00092','C01530','NA_2','C00249','C06429','C06425','C16537','C01571','C01595',\n",
    "                 'C06424','NA_3','C02679','C00712','C00219','C00163','C00246','C00033']\n",
    "\n"
   ]
  },
  {
   "cell_type": "code",
   "execution_count": null,
   "id": "529b3c9a",
   "metadata": {},
   "outputs": [],
   "source": [
    "labels = venn.get_labels([set(iTMU798_Mets), set(PMID_33171998), set(PMID_31254203)], fill=['number'])\n",
    "fig, ax = venn.venn3(labels, names=['iTMU798', 'PMID:33171998', 'PMID:31254203'],fontsize=14.5)\n",
    "fig.savefig('MetaboliteComparisonExp.jpeg', dpi=600 )\n"
   ]
  },
  {
   "cell_type": "code",
   "execution_count": null,
   "id": "fae43363",
   "metadata": {},
   "outputs": [],
   "source": []
  },
  {
   "cell_type": "code",
   "execution_count": null,
   "id": "faf426ae",
   "metadata": {
    "scrolled": true
   },
   "outputs": [],
   "source": []
  },
  {
   "cell_type": "code",
   "execution_count": null,
   "id": "b3fe7159",
   "metadata": {},
   "outputs": [],
   "source": []
  },
  {
   "cell_type": "code",
   "execution_count": null,
   "id": "380360f6",
   "metadata": {},
   "outputs": [],
   "source": []
  }
 ],
 "metadata": {
  "kernelspec": {
   "display_name": "Python 3 (ipykernel)",
   "language": "python",
   "name": "python3"
  },
  "language_info": {
   "codemirror_mode": {
    "name": "ipython",
    "version": 3
   },
   "file_extension": ".py",
   "mimetype": "text/x-python",
   "name": "python",
   "nbconvert_exporter": "python",
   "pygments_lexer": "ipython3",
   "version": "3.9.15"
  }
 },
 "nbformat": 4,
 "nbformat_minor": 5
}
