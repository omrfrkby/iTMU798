{
 "cells": [
  {
   "cell_type": "code",
   "execution_count": null,
   "id": "64f335a2",
   "metadata": {},
   "outputs": [],
   "source": [
    "import cobra\n",
    "import venn"
   ]
  },
  {
   "cell_type": "code",
   "execution_count": null,
   "id": "c6f04961",
   "metadata": {},
   "outputs": [],
   "source": [
    "iTMU798 = cobra.io.load_json_model('iTMU798.json')\n",
    "iCEL1314 = cobra.io.load_json_model('iCEL1314.json')\n",
    "iDC625 = cobra.io.read_sbml_model('iDC625.xml')\n",
    "Worm1 = cobra.io.read_sbml_model('Worm1.xml')"
   ]
  },
  {
   "cell_type": "code",
   "execution_count": null,
   "id": "fc541dfa",
   "metadata": {},
   "outputs": [],
   "source": [
    "iTMU798_Rxns = []\n",
    "\n",
    "for i in iTMU798.reactions:\n",
    "    try:\n",
    "        if type(i.annotation['kegg.reaction']) == list:\n",
    "            for l in i.annotation['kegg.reaction']:\n",
    "                iTMU798_Rxns.append(str(l))\n",
    "        elif type(i.annotation['kegg.reaction']) == str:\n",
    "            iTMU798_Rxns.append(str(i.annotation['kegg.reaction']))\n",
    "    except Exception:\n",
    "        try:\n",
    "            iTMU798_Rxns.append(str(i.annotation['rhea']))\n",
    "        except Exception:\n",
    "            pass"
   ]
  },
  {
   "cell_type": "code",
   "execution_count": null,
   "id": "a4f2c12c",
   "metadata": {},
   "outputs": [],
   "source": [
    "iCEL1314_Rxns = []\n",
    "\n",
    "for i in iCEL1314.reactions:\n",
    "    try:\n",
    "        if type(i.annotation['kegg.reaction']) == list:\n",
    "            for l in i.annotation['kegg.reaction']:\n",
    "                iCEL1314_Rxns.append(str(l))\n",
    "        elif type(i.annotation['kegg.reaction']) == str:\n",
    "            iCEL1314_Rxns.append(str(i.annotation['kegg.reaction']))\n",
    "    except Exception:\n",
    "        try:\n",
    "            iCEL1314_Rxns.append(str(i.annotation['rhea']))\n",
    "        except Exception:\n",
    "            pass"
   ]
  },
  {
   "cell_type": "code",
   "execution_count": null,
   "id": "16361900",
   "metadata": {},
   "outputs": [],
   "source": []
  },
  {
   "cell_type": "code",
   "execution_count": null,
   "id": "d14a04f5",
   "metadata": {},
   "outputs": [],
   "source": []
  },
  {
   "cell_type": "code",
   "execution_count": null,
   "id": "a268c75d",
   "metadata": {},
   "outputs": [],
   "source": []
  },
  {
   "cell_type": "code",
   "execution_count": null,
   "id": "d2a8e370",
   "metadata": {},
   "outputs": [],
   "source": [
    "Worm1_Rxns = []\n",
    "\n",
    "for i in Worm1.reactions:\n",
    "    try:\n",
    "        if type(i.annotation['kegg.reaction']) == list:\n",
    "            for l in i.annotation['kegg.reaction']:\n",
    "                Worm1_Rxns.append(str(l))\n",
    "        elif type(i.annotation['kegg.reaction']) == str:\n",
    "            Worm1_Rxns.append(str(i.annotation['kegg.reaction']))\n",
    "    except Exception:\n",
    "        try:\n",
    "            Worm1_Rxns.append(str(i.annotation['rhea']))\n",
    "        except Exception:\n",
    "            pass"
   ]
  },
  {
   "cell_type": "code",
   "execution_count": null,
   "id": "19beeb69",
   "metadata": {},
   "outputs": [],
   "source": [
    "iDC625_Rxns = []\n",
    "\n",
    "for i in iDC625.reactions:\n",
    "    if str(i.id).startswith('R'):\n",
    "        iDC625_Rxns.append(str(i.id).split('_')[0])"
   ]
  },
  {
   "cell_type": "code",
   "execution_count": null,
   "id": "4ce20fa9",
   "metadata": {},
   "outputs": [],
   "source": []
  },
  {
   "cell_type": "code",
   "execution_count": null,
   "id": "1537a111",
   "metadata": {},
   "outputs": [],
   "source": [
    "labels = venn.get_labels([set(iTMU798_Rxns), set(iCEL1314_Rxns), set(Worm1_Rxns), set(iDC625_Rxns)], fill=['number'])\n",
    "fig, ax = venn.venn4(labels, names=['iTMU798', 'iCEL1314', 'Worm1', 'iDC625'],fontsize=16)\n",
    "fig.savefig('ReactionComparison.jpeg', dpi=600 )\n"
   ]
  },
  {
   "cell_type": "code",
   "execution_count": null,
   "id": "76582342",
   "metadata": {},
   "outputs": [],
   "source": [
    "iTMU798_Mets = []\n",
    "\n",
    "for i in iTMU798.metabolites:\n",
    "    try:\n",
    "        if type(i.annotation['kegg.compound']) == list:\n",
    "            for l in i.annotation['kegg.compound']:\n",
    "                iTMU798_Mets.append(str(l)[1:])\n",
    "        elif type(i.annotation['kegg.compound']) == str:\n",
    "            iTMU798_Mets.append(str(i.annotation['kegg.compound'])[1:])\n",
    "    except Exception:\n",
    "        try:\n",
    "            iTMU798_Mets.append(str(i.annotation['chebi']))\n",
    "        except Exception:\n",
    "            try:\n",
    "                iTMU798_Mets.append(str(i.annotation['pubchem.compound']))\n",
    "            except Exception:\n",
    "                for t in i.reactions:\n",
    "                    if t.subsystem == \"Biomass\":\n",
    "                        pass\n",
    "                        #print(i.name)\n",
    "                    else:\n",
    "                        iTMU798_Mets.append(str(i.name))"
   ]
  },
  {
   "cell_type": "code",
   "execution_count": null,
   "id": "772c0a21",
   "metadata": {},
   "outputs": [],
   "source": []
  },
  {
   "cell_type": "code",
   "execution_count": null,
   "id": "2f253dc3",
   "metadata": {},
   "outputs": [],
   "source": [
    "iCEL1314_Mets = []\n",
    "\n",
    "for i in iCEL1314.metabolites:\n",
    "    try:\n",
    "        if type(i.annotation['kegg.compound']) == list:\n",
    "            for l in i.annotation['kegg.compound']:\n",
    "                iCEL1314_Mets.append(str(l)[1:])\n",
    "        elif type(i.annotation['kegg.compound']) == str:\n",
    "            iCEL1314_Mets.append(str(i.annotation['kegg.compound'])[1:])\n",
    "    except Exception:\n",
    "        try:\n",
    "            iCEL1314_Mets.append(str(i.annotation['chebi']))\n",
    "        except Exception:\n",
    "            try:\n",
    "                iCEL1314_Mets.append(str(i.annotation['pubchem.compound']))\n",
    "            except Exception:\n",
    "                pass"
   ]
  },
  {
   "cell_type": "code",
   "execution_count": null,
   "id": "30a11d2e",
   "metadata": {},
   "outputs": [],
   "source": []
  },
  {
   "cell_type": "code",
   "execution_count": null,
   "id": "2c550a39",
   "metadata": {},
   "outputs": [],
   "source": [
    "Worm1_Mets = []\n",
    "\n",
    "for i in Worm1.metabolites:\n",
    "    try:\n",
    "        if type(i.annotation['kegg.compound']) == list:\n",
    "            for l in i.annotation['kegg.compound']:\n",
    "                Worm1_Mets.append(str(l)[1:])\n",
    "        elif type(i.annotation['kegg.compound']) == str:\n",
    "            Worm1_Mets.append(str(i.annotation['kegg.compound'])[1:])\n",
    "    except Exception:\n",
    "        try:\n",
    "            if type(i.annotation['chebi']) == list:\n",
    "                for l in i.annotation['chebi']:\n",
    "                    Worm1_Mets.append(str(l))\n",
    "            elif type(i.annotation['chebi']) == str:\n",
    "                Worm1_Mets.append(str(i.annotation['chebi']))\n",
    "        except Exception:\n",
    "            try:\n",
    "                if type(i.annotation['pubchem.compound']) == list:\n",
    "                    for l in i.annotation['pubchem.compound']:\n",
    "                        Worm1_Mets.append(str(l))\n",
    "                elif type(i.annotation['pubchem.compound']) == str:\n",
    "                    Worm1_Mets.append(str(i.annotation['pubchem.compound']))\n",
    "                \n",
    "            except Exception:\n",
    "                pass"
   ]
  },
  {
   "cell_type": "code",
   "execution_count": null,
   "id": "eaf46cbc",
   "metadata": {},
   "outputs": [],
   "source": []
  },
  {
   "cell_type": "code",
   "execution_count": null,
   "id": "579a6090",
   "metadata": {},
   "outputs": [],
   "source": [
    "iDC625_Mets = []\n",
    "\n",
    "for i in iDC625.metabolites:\n",
    "    if str(i.id).startswith('B') == False:\n",
    "        iDC625_Mets.append(str(i.id)[1:])"
   ]
  },
  {
   "cell_type": "code",
   "execution_count": null,
   "id": "4d9100a5",
   "metadata": {},
   "outputs": [],
   "source": []
  },
  {
   "cell_type": "code",
   "execution_count": null,
   "id": "67c33d17",
   "metadata": {},
   "outputs": [],
   "source": []
  },
  {
   "cell_type": "code",
   "execution_count": null,
   "id": "8c818e3d",
   "metadata": {},
   "outputs": [],
   "source": [
    "labels = venn.get_labels([set(iTMU798_Mets), set(iCEL1314_Mets), set(Worm1_Mets), set(iDC625_Mets)], fill=['number'])\n",
    "fig, ax = venn.venn4(labels, names=['iTMU798', 'iCEL1314', 'Worm1', 'iDC625'],fontsize=16)\n",
    "fig.savefig('MetaboliteComparison.jpeg', dpi=600 )\n"
   ]
  },
  {
   "cell_type": "code",
   "execution_count": null,
   "id": "ad61e73c",
   "metadata": {},
   "outputs": [],
   "source": []
  },
  {
   "cell_type": "code",
   "execution_count": null,
   "id": "9873d789",
   "metadata": {},
   "outputs": [],
   "source": []
  },
  {
   "cell_type": "code",
   "execution_count": null,
   "id": "f2aec034",
   "metadata": {},
   "outputs": [],
   "source": []
  },
  {
   "cell_type": "code",
   "execution_count": null,
   "id": "e381f6d5",
   "metadata": {},
   "outputs": [],
   "source": []
  },
  {
   "cell_type": "code",
   "execution_count": null,
   "id": "a5c49c39",
   "metadata": {},
   "outputs": [],
   "source": []
  },
  {
   "cell_type": "code",
   "execution_count": null,
   "id": "bd911f73",
   "metadata": {},
   "outputs": [],
   "source": []
  }
 ],
 "metadata": {
  "kernelspec": {
   "display_name": "Python 3 (ipykernel)",
   "language": "python",
   "name": "python3"
  },
  "language_info": {
   "codemirror_mode": {
    "name": "ipython",
    "version": 3
   },
   "file_extension": ".py",
   "mimetype": "text/x-python",
   "name": "python",
   "nbconvert_exporter": "python",
   "pygments_lexer": "ipython3",
   "version": "3.9.15"
  }
 },
 "nbformat": 4,
 "nbformat_minor": 5
}
