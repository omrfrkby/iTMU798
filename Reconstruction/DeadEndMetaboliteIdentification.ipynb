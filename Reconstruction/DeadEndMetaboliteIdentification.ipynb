{
 "cells": [
  {
   "cell_type": "code",
   "execution_count": null,
   "id": "e36385e7",
   "metadata": {},
   "outputs": [],
   "source": [
    "import cobra\n",
    "from cobra.flux_analysis import flux_variability_analysis\n",
    "from cobra import Model, Reaction, Metabolite"
   ]
  },
  {
   "cell_type": "code",
   "execution_count": null,
   "id": "22f8797a",
   "metadata": {},
   "outputs": [],
   "source": [
    "DraftTmurisV3 = cobra.io.read_sbml_model(\"Draft_Tmuris_V3.xml\")\n"
   ]
  },
  {
   "cell_type": "code",
   "execution_count": null,
   "id": "671ea71b",
   "metadata": {},
   "outputs": [],
   "source": [
    "ZeroFlux1 = []\n",
    "i = 0\n",
    "while i < len(DraftTmurisV3.reactions):\n",
    "    FVA = flux_variability_analysis(DraftTmurisV3,DraftTmurisV3.reactions[i])\n",
    "    if float(FVA.maximum) == 0.0 and float(FVA.minimum) == 0.0:\n",
    "        ZeroFlux1.append(DraftTmurisV3.reactions[i].id)\n",
    "        \n",
    "    i += 1"
   ]
  },
  {
   "cell_type": "code",
   "execution_count": null,
   "id": "0c92f8b2",
   "metadata": {},
   "outputs": [],
   "source": [
    "i = 0\n",
    "while i < len(DraftTmurisV3.reactions):\n",
    "    for RxnProducts in DraftTmurisV3.reactions[i].products:\n",
    "        if RxnProducts.compartment == \"c\":\n",
    "            if len(RxnProducts.reactions) == 1:\n",
    "                SinkMet = RxnProducts\n",
    "                print('The number of blocked reactions is', len(ZeroFlux1) ,'before ', SinkMet, 'is temporarily added to the draft model.\\n')\n",
    "                with DraftTmurisV3 as model:\n",
    "                    RxnID = \"sink\"+str(RxnProducts)\n",
    "                    reaction = Reaction(RxnID)\n",
    "                    reaction.name = \"sink\"\n",
    "                    reaction.lower_bound = -999999.0\n",
    "                    reaction.upper_bound = 999999.0\n",
    "                    reaction.add_metabolites({SinkMet: 1.0})\n",
    "                    model.add_reactions([reaction])\n",
    "                    ZeroFlux2 = []\n",
    "                    t = 0\n",
    "                    while t < len(model.reactions):\n",
    "                        FVA = flux_variability_analysis(model,model.reactions[t])\n",
    "                        if float(FVA.maximum) == 0.0 and float(FVA.minimum) == 0.0:\n",
    "                            ZeroFlux2.append(model.reactions[t].id)\n",
    "                        t += 1\n",
    "                    \n",
    "                    print(RxnProducts.id,'is added!','The number of blocked reaction:\\t', len(ZeroFlux2),'\\n')\n",
    "    i += 1"
   ]
  },
  {
   "cell_type": "code",
   "execution_count": null,
   "id": "36064259",
   "metadata": {},
   "outputs": [],
   "source": []
  }
 ],
 "metadata": {
  "kernelspec": {
   "display_name": "Python 3 (ipykernel)",
   "language": "python",
   "name": "python3"
  },
  "language_info": {
   "codemirror_mode": {
    "name": "ipython",
    "version": 3
   },
   "file_extension": ".py",
   "mimetype": "text/x-python",
   "name": "python",
   "nbconvert_exporter": "python",
   "pygments_lexer": "ipython3",
   "version": "3.9.15"
  }
 },
 "nbformat": 4,
 "nbformat_minor": 5
}
