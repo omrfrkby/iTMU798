{
 "cells": [
  {
   "cell_type": "code",
   "execution_count": null,
   "id": "48c63936",
   "metadata": {},
   "outputs": [],
   "source": [
    "import cobra\n",
    "from bioservices import Rhea"
   ]
  },
  {
   "cell_type": "code",
   "execution_count": null,
   "id": "5514bf50",
   "metadata": {},
   "outputs": [],
   "source": [
    "DraftModel_Tmuris = cobra.io.read_sbml_model('Draft_Tmuris_V2.xml')"
   ]
  },
  {
   "cell_type": "code",
   "execution_count": null,
   "id": "1f3926b1",
   "metadata": {},
   "outputs": [],
   "source": [
    "File_EC_Tmuris = open(\"EC_numbers_with_tm_geneIDs.txt\",\"r\")\n",
    "File_RHEA2EC = open(\"RHEA/rhea2ec.tsv\",\"r\")\n",
    "\n",
    "EC_Tmuris = []\n",
    "RHEA2EC = []\n",
    "\n",
    "for i,l in zip(File_EC_Tmuris, File_RHEA2EC):\n",
    "    EC_Tmuris.append(i.strip().split(\"\\t\"))\n",
    "    RHEA2EC.append(l.strip().split(\"\\t\"))"
   ]
  },
  {
   "cell_type": "code",
   "execution_count": null,
   "id": "016c2855",
   "metadata": {
    "scrolled": true
   },
   "outputs": [],
   "source": [
    "File_RHEA_Search_Tmuris = open(\"RHEA_Tmuris_reactions.tsv\",\"w\")\n",
    "\n",
    "\n",
    "for i in range(len(EC_Tmuris)):\n",
    "    for l in range(len(RHEA2EC)):\n",
    "        if EC_Tmuris[i][0] == RHEA2EC[l][-1]:\n",
    "            File_RHEA_Search_Tmuris.write(\"RHEA:\"+str(RHEA2EC[l][0])+\"\\t\"+str(RHEA2EC[l][-1]))\n",
    "            File_RHEA_Search_Tmuris.write(\"\\t\")\n",
    "            \n",
    "            try:\n",
    "                r = Rhea()\n",
    "                answer = r.get_metabolites(RHEA2EC[l][0])\n",
    "                \n",
    "                for t in range(len(answer.get(\"reactants\"))):\n",
    "                    File_RHEA_Search_Tmuris.write(str(answer.get(\"reactants\")[t]))\n",
    "                    File_RHEA_Search_Tmuris.write(\"//\")\n",
    "                \n",
    "                    File_RHEA_Search_Tmuris.write(\"\\t\")\n",
    "            \n",
    "                for k in range(len(answer.get(\"products\"))):\n",
    "                    File_RHEA_Search_Tmuris.write(str(answer.get(\"products\")[k]))\n",
    "                    File_RHEA_Search_Tmuris.write(\"//\")\n",
    "                \n",
    "                    File_RHEA_Search_Tmuris.write(\"\\t\")\n",
    "                    File_RHEA_Search_Tmuris.write(' or '.join(EC_Tmuris[i][1].split(',')))\n",
    "                    \n",
    "                    \n",
    "            except Exception:\n",
    "                print(RHEA2EC[l][0])\n",
    "            \n",
    "            \n",
    "            File_RHEA_Search_Tmuris.write(\"\\n\")\n",
    "File_RHEA_Search_Tmuris.close()\n",
    "            \n",
    "            "
   ]
  },
  {
   "cell_type": "code",
   "execution_count": null,
   "id": "6a107439",
   "metadata": {},
   "outputs": [],
   "source": []
  },
  {
   "cell_type": "code",
   "execution_count": null,
   "id": "6ca28399",
   "metadata": {},
   "outputs": [],
   "source": []
  },
  {
   "cell_type": "code",
   "execution_count": null,
   "id": "a228a467",
   "metadata": {},
   "outputs": [],
   "source": []
  }
 ],
 "metadata": {
  "kernelspec": {
   "display_name": "Python 3 (ipykernel)",
   "language": "python",
   "name": "python3"
  },
  "language_info": {
   "codemirror_mode": {
    "name": "ipython",
    "version": 3
   },
   "file_extension": ".py",
   "mimetype": "text/x-python",
   "name": "python",
   "nbconvert_exporter": "python",
   "pygments_lexer": "ipython3",
   "version": "3.9.15"
  }
 },
 "nbformat": 4,
 "nbformat_minor": 5
}
