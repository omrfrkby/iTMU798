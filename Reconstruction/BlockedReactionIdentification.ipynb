{
 "cells": [
  {
   "cell_type": "code",
   "execution_count": null,
   "id": "183f3697",
   "metadata": {},
   "outputs": [],
   "source": [
    "import cobra\n",
    "from cobra.flux_analysis import flux_variability_analysis\n",
    "from cobra import Model, Reaction, Metabolite"
   ]
  },
  {
   "cell_type": "code",
   "execution_count": null,
   "id": "3e04b93d",
   "metadata": {},
   "outputs": [],
   "source": [
    "DraftTmurisV3 = cobra.io.read_sbml_model(\"Draft_Tmuris_V3.xml\")\n"
   ]
  },
  {
   "cell_type": "code",
   "execution_count": null,
   "id": "ee1377fe",
   "metadata": {},
   "outputs": [],
   "source": [
    "\n",
    "i = 0\n",
    "while i < len(DraftTmurisV3.reactions)-1:\n",
    "    MetAdd = []\n",
    "    FVA = flux_variability_analysis(DraftTmurisV3,DraftTmurisV3.reactions[i])\n",
    "    if float(FVA.maximum) == 0.0 and float(FVA.minimum) == 0.0:\n",
    "        print(\"\\t \\t Reaction %s is being checked \\n\" % DraftTmurisV3.reactions[i].id)\n",
    "        RxnMets = []\n",
    "        for l in DraftTmurisV3.reactions[i].reactants:\n",
    "            RxnMets.append(l.id)\n",
    "            \n",
    "        with DraftTmurisV3 as model:   \n",
    "            for k in range(len(RxnMets)):\n",
    "                if RxnMets[k][-1] == \"c\":\n",
    "                    ExMet = str(RxnMets[k][:-1])+\"e\"\n",
    "                    \n",
    "                    try:\n",
    "                        print(\"++++++++++++++++++++++++++++++++++++++++++++++++++++++++++++++++++++ \\n\")\n",
    "                        print(\"Metabolite already exist: %s \\t %s\" % (model.metabolites.get_by_id(str(ExMet)),RxnMets[k]))\n",
    "                        print(\"\\n\")\n",
    "                    except Exception:\n",
    "                        MetAdd.append(ExMet)\n",
    "                        print(\"\\n Metabolite to be checked: %s \\t %s\" % (RxnMets[k],ExMet))\n",
    "                        #print(\"\\n\")\n",
    "                        RxnID = \"New_reaction\"+str(i)+\"_\"+str(k)\n",
    "                        reaction = Reaction(RxnID)\n",
    "                        reaction.name = str(RxnMets[k])+\"transport\"\n",
    "                        reaction.lower_bound = -999999.0\n",
    "                        reaction.upper_bound = 999999.0\n",
    "                        ExternalMet = Metabolite(ExMet,\n",
    "                                                  formula=model.metabolites.get_by_id(str(RxnMets[k])).formula,\n",
    "                                                  name=model.metabolites.get_by_id(str(RxnMets[k])).name,\n",
    "                                                  compartment=\"e\")\n",
    "                        reaction.add_metabolites({ExternalMet: -1.0})\n",
    "                        model.add_reactions([reaction])\n",
    "                \n",
    "                        RxnID2 = \"New_reaction\"+str(i)+\"_\"+str(k)+\"_\"+\"2\"\n",
    "                        reaction_2 = Reaction(RxnID2)\n",
    "                        reaction_2.name = str(RxnMets[k])+\"transport\"\n",
    "                        reaction_2.lower_bound = -999999.0\n",
    "                        reaction_2.upper_bound = 999999.0\n",
    "                        reaction_2.add_metabolites({ExternalMet: -1.0,model.metabolites.get_by_id(str(RxnMets[k])): 1.0})\n",
    "                        model.add_reactions([reaction_2])\n",
    "                        print(\"\\t checking is completed and \",\"%s is added\" % (ExMet),\"\\n\")\n",
    "                        print(\"-----------------------------------\")\n",
    "            print(\"\\n \\t Metabolite addition from -%s- is finished:\" % DraftTmurisV3.reactions[i].id,\"\\n\")            \n",
    "            zero_flux = []\n",
    "            t = 0\n",
    "            while t < len(model.reactions):\n",
    "                FVA2 = flux_variability_analysis(model,model.reactions[t])\n",
    "                if float(FVA2.maximum) == 0.0 and float(FVA2.minimum) == 0.0:\n",
    "                    zero_flux.append(model.reactions[t].id)\n",
    "                t += 1\n",
    "                \n",
    "            length_of_temporary_model = len(model.reactions)\n",
    "            length_of_added_metabolites = len(MetAdd)\n",
    "            print(\"\\t \\tThe number of zero flux reactions after -%s- metabolite(s) from -%s- is added: \\t %d\" % (length_of_added_metabolites,DraftTmurisV3.reactions[i].id,len(zero_flux)))  \n",
    "            print(\"\\t \\tThe total number of the temporary model reactions after new reactions are added: \\t %d\" % (len(model.reactions)))\n",
    "            #print(\"\\n\")\n",
    "            \n",
    "            \n",
    "        print(\"\\t ********************************Next reaction*********************************** \\n\")     \n",
    "        \n",
    "                    \n",
    "                    \n",
    "  \n",
    "        \n",
    "   \n",
    "    i += 1"
   ]
  },
  {
   "cell_type": "code",
   "execution_count": null,
   "id": "61119bd7",
   "metadata": {},
   "outputs": [],
   "source": [
    " "
   ]
  }
 ],
 "metadata": {
  "kernelspec": {
   "display_name": "Python 3 (ipykernel)",
   "language": "python",
   "name": "python3"
  },
  "language_info": {
   "codemirror_mode": {
    "name": "ipython",
    "version": 3
   },
   "file_extension": ".py",
   "mimetype": "text/x-python",
   "name": "python",
   "nbconvert_exporter": "python",
   "pygments_lexer": "ipython3",
   "version": "3.9.15"
  }
 },
 "nbformat": 4,
 "nbformat_minor": 5
}
