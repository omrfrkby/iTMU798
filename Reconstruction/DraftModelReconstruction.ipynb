{
 "cells": [
  {
   "cell_type": "code",
   "execution_count": null,
   "id": "cf529e88",
   "metadata": {},
   "outputs": [],
   "source": [
    "import cobra\n",
    "from cobra import Model, Reaction, Metabolite\n",
    "import re\n"
   ]
  },
  {
   "cell_type": "code",
   "execution_count": null,
   "id": "b570ad5b",
   "metadata": {},
   "outputs": [],
   "source": [
    "WormJam = cobra.io.read_sbml_model('/path_to_dir/WormJam-GEM.xml') #Import WormJam"
   ]
  },
  {
   "cell_type": "code",
   "execution_count": null,
   "id": "c91358f3",
   "metadata": {},
   "outputs": [],
   "source": [
    "WormJam.objective = 'Biomass2'"
   ]
  },
  {
   "cell_type": "code",
   "execution_count": null,
   "id": "a6d3ac48",
   "metadata": {},
   "outputs": [],
   "source": [
    "file_cel_tm = open('/path_to_dir/tm_cel_orthologs.txt','r')#Import the biomart file that contains T. muris and C. elegans orthologs\n",
    "\n",
    "celegans_tmuris_orthologs_o2o = {}\n",
    "only_celegans_orthologs = []\n",
    "\n",
    "for i in file_cel_tm:\n",
    "    try:\n",
    "        if str(i.strip().split('\\t')[-1]) == 'ortholog_one2one':\n",
    "            celegans_tmuris_orthologs_o2o[str(i.strip().split('\\t')[1])] = i.strip().split('\\t')[0]\n",
    "            only_celegans_orthologs.append(i.strip().split('\\t')[1])\n",
    "    except Exception:\n",
    "        pass"
   ]
  },
  {
   "cell_type": "code",
   "execution_count": null,
   "id": "2ccc30d4",
   "metadata": {},
   "outputs": [],
   "source": [
    "len(celegans_tmuris_orthologs_o2o)"
   ]
  },
  {
   "cell_type": "code",
   "execution_count": null,
   "id": "967908f8",
   "metadata": {},
   "outputs": [],
   "source": [
    "i = 0\n",
    "tmuris_generactionrule = {}\n",
    "while i < len(WormJam.reactions):\n",
    "    if 'WBGene' in str(WormJam.reactions[i].gene_reaction_rule):\n",
    "        tmuris_generactionrule[str(WormJam.reactions[i].id)] = str(WormJam.reactions[i].gene_reaction_rule)\n",
    "    else:\n",
    "        tmuris_generactionrule[str(WormJam.reactions[i].id)] = 'no_gene_association'\n",
    "    \n",
    "    i += 1"
   ]
  },
  {
   "cell_type": "code",
   "execution_count": null,
   "id": "23b78b01",
   "metadata": {},
   "outputs": [],
   "source": [
    "tmuris_generactionrule"
   ]
  },
  {
   "cell_type": "code",
   "execution_count": null,
   "id": "d12765d0",
   "metadata": {},
   "outputs": [],
   "source": [
    "for i in tmuris_generactionrule:\n",
    "    for l in range(len(tmuris_generactionrule[i].split(' '))):\n",
    "        if 'WBGene' in tmuris_generactionrule[i].split(' ')[l]:\n",
    "            if tmuris_generactionrule[i].split(' ')[l].strip('()') in only_celegans_orthologs:\n",
    "                tmuris_generactionrule[i] = str(tmuris_generactionrule[i]).replace(tmuris_generactionrule[i].split(' ')[l].strip('()'),celegans_tmuris_orthologs_o2o[str(tmuris_generactionrule[i].split(' ')[l].strip('()'))])\n",
    "            elif tmuris_generactionrule[i].split(' ')[l].strip('()') not in only_celegans_orthologs:\n",
    "                tmuris_generactionrule[i] = str(tmuris_generactionrule[i]).replace(tmuris_generactionrule[i].split(' ')[l].strip('()'), 'no_ortholog')\n",
    "            "
   ]
  },
  {
   "cell_type": "code",
   "execution_count": null,
   "id": "61c9797a",
   "metadata": {},
   "outputs": [],
   "source": [
    "tmuris_generactionrule"
   ]
  },
  {
   "cell_type": "code",
   "execution_count": null,
   "id": "f603d7f8",
   "metadata": {},
   "outputs": [],
   "source": [
    "for i in tmuris_generactionrule:\n",
    "    if 'and' not in tmuris_generactionrule[i] and 'TMUE' in tmuris_generactionrule[i]:\n",
    "        tmuris_generactionrule[i] = (' or '.join(re.findall('TMUE_\\d+', tmuris_generactionrule[i])))"
   ]
  },
  {
   "cell_type": "code",
   "execution_count": null,
   "id": "fbd17696",
   "metadata": {},
   "outputs": [],
   "source": [
    "tmuris_generactionrule"
   ]
  },
  {
   "cell_type": "code",
   "execution_count": null,
   "id": "e31909a6",
   "metadata": {},
   "outputs": [],
   "source": [
    "draft_model_tmuris = Model('T. muris draft V1')\n",
    "for i in tmuris_generactionrule:\n",
    "    if 'TMUE' in tmuris_generactionrule[i] or 'no_gene_association' in tmuris_generactionrule[i]:\n",
    "        if 'no_ortholog' not in tmuris_generactionrule[i]:\n",
    "            if 'n' not in WormJam.reactions.get_by_id(str(i)).compartments:\n",
    "                if 'no_gene_association' in tmuris_generactionrule[i]:\n",
    "                    if len(WormJam.reactions.get_by_id(str(i)).compartments) >= 2 or 'e' in WormJam.reactions.get_by_id(str(i)).compartments:\n",
    "                        draft_model_tmuris.add_reactions([WormJam.reactions.get_by_id(str(i))])\n",
    "                        draft_model_tmuris.reactions.get_by_id(str(i)).gene_reaction_rule = tmuris_generactionrule[i]\n",
    "                else:\n",
    "                    draft_model_tmuris.add_reactions([WormJam.reactions.get_by_id(str(i))])\n",
    "                    draft_model_tmuris.reactions.get_by_id(str(i)).gene_reaction_rule = tmuris_generactionrule[i]"
   ]
  },
  {
   "cell_type": "code",
   "execution_count": null,
   "id": "bd7049c5",
   "metadata": {},
   "outputs": [],
   "source": [
    "cobra.io.save_json_model(draft_model_tmuris, \"Draft_Tmuris_V1.json\")\n",
    "cobra.io.save_matlab_model(draft_model_tmuris, \"Draft_Tmuris_V1.mat\")\n",
    "cobra.io.write_sbml_model(draft_model_tmuris, \"Draft_Tmuris_V1.xml\")"
   ]
  },
  {
   "cell_type": "code",
   "execution_count": null,
   "id": "f542bc7e",
   "metadata": {},
   "outputs": [],
   "source": []
  },
  {
   "cell_type": "code",
   "execution_count": null,
   "id": "fd96d341",
   "metadata": {},
   "outputs": [],
   "source": []
  }
 ],
 "metadata": {
  "kernelspec": {
   "display_name": "Python 3 (ipykernel)",
   "language": "python",
   "name": "python3"
  },
  "language_info": {
   "codemirror_mode": {
    "name": "ipython",
    "version": 3
   },
   "file_extension": ".py",
   "mimetype": "text/x-python",
   "name": "python",
   "nbconvert_exporter": "python",
   "pygments_lexer": "ipython3",
   "version": "3.9.15"
  }
 },
 "nbformat": 4,
 "nbformat_minor": 5
}
