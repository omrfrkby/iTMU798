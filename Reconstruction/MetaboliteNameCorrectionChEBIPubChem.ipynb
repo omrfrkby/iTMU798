{
 "cells": [
  {
   "cell_type": "code",
   "execution_count": 1,
   "id": "c14f5df1",
   "metadata": {},
   "outputs": [],
   "source": [
    "import libchebipy #import chebi library to search model metabolites in chebi\n",
    "import cobra #import cobrapy to see model metabolites\n",
    "import pubchempy as pcp #import pubchem library to search model metabolites in pubchem"
   ]
  },
  {
   "cell_type": "code",
   "execution_count": 2,
   "id": "2b700fce",
   "metadata": {},
   "outputs": [
    {
     "name": "stderr",
     "output_type": "stream",
     "text": [
      "'' is not a valid SBML 'SId'.\n"
     ]
    },
    {
     "name": "stdout",
     "output_type": "stream",
     "text": [
      "Set parameter Username\n",
      "Academic license - for non-commercial use only - expires 2024-04-25\n"
     ]
    },
    {
     "name": "stderr",
     "output_type": "stream",
     "text": [
      "No objective coefficients in model. Unclear what should be optimized\n"
     ]
    }
   ],
   "source": [
    "DraftModel_Tmuris = cobra.io.read_sbml_model('Draft_Tmuris_V1.xml')#model to be used to search \n",
    "ModelMetabolites = {}\n",
    "\n",
    "for i in DraftModel_Tmuris.metabolites:\n",
    "    try:\n",
    "        ModelMetabolites[str(i.id)] = i.annotation['chebi']\n",
    "    except Exception:\n",
    "        try:\n",
    "            ModelMetabolites[str(i.id)] = i.annotation['kegg.compound']\n",
    "        except Exception:\n",
    "            ModelMetabolites[str(i.id)] = 'NA'\n"
   ]
  },
  {
   "cell_type": "code",
   "execution_count": null,
   "id": "bc579b6d",
   "metadata": {},
   "outputs": [],
   "source": []
  },
  {
   "cell_type": "code",
   "execution_count": 3,
   "id": "9e5ab18f",
   "metadata": {},
   "outputs": [],
   "source": [
    "for MetID in ModelMetabolites:\n",
    "    if ModelMetabolites[str(MetID)].startswith('CHEBI'):\n",
    "        DraftModel_Tmuris.metabolites.get_by_id(str(MetID)).name = libchebipy.ChebiEntity(str(ModelMetabolites[str(MetID)])).get_name()\n",
    "        DraftModel_Tmuris.metabolites.get_by_id(str(MetID)).annotation['inchi'] = str(libchebipy.ChebiEntity(str(ModelMetabolites[str(MetID)])).get_inchi())\n",
    "        DraftModel_Tmuris.metabolites.get_by_id(str(MetID)).annotation['inchikey'] = str(libchebipy.ChebiEntity(str(ModelMetabolites[str(MetID)])).get_inchi_key())\n",
    "        "
   ]
  },
  {
   "cell_type": "code",
   "execution_count": null,
   "id": "90e865b9",
   "metadata": {},
   "outputs": [],
   "source": []
  },
  {
   "cell_type": "code",
   "execution_count": 5,
   "id": "b55b1962",
   "metadata": {
    "scrolled": true
   },
   "outputs": [],
   "source": [
    "for MetID in DraftModel_Tmuris.metabolites:\n",
    "    try:\n",
    "        if len(pcp.get_compounds(str(MetID.name),'name')) > 0:\n",
    "            compound = pcp.get_cids(str(MetID.name),'name')\n",
    "            PubChem_Met = pcp.Compound.from_cid(compound[0])\n",
    "            MetID.annotation['pubchem.compound'] = PubChem_Met.sids[0]\n",
    "            #print(PubChem_Met.sids[0])\n",
    "        else:\n",
    "            if str(MetID.name).startswith('_'):\n",
    "                if len(pcp.get_compounds(str(MetID.name).strip('_'),'name')) > 0:\n",
    "                    compound = pcp.get_cids(str(MetID.name).strip('_'),'name')\n",
    "                    PubChem_Met = pcp.Compound.from_cid(compound[0])\n",
    "                    MetID.annotation['pubchem.compound'] = PubChem_Met.sids[0]\n",
    "                    #print(PubChem_Met.sids[0])\n",
    "\n",
    "            elif str(MetID.name).startswith('a '):\n",
    "                if len(pcp.get_compounds(str(MetID.name).strip('a '),'name')) > 0:\n",
    "                    compound = pcp.get_cids(str(MetID.name).strip('a '),'name')\n",
    "                    PubChem_Met = pcp.Compound.from_cid(compound[0])\n",
    "                    MetID.annotation['pubchem.compound'] = PubChem_Met.sids[0]\n",
    "                    #print(PubChem_Met.sids[0])\n",
    "\n",
    "            elif str(MetID.name).startswith('an '):\n",
    "                if len(pcp.get_compounds(str(MetID.name).strip('an '),'name')) > 0:\n",
    "                    compound = pcp.get_cids(str(MetID.name).strip('an '),'name')\n",
    "                    PubChem_Met = pcp.Compound.from_cid(compound[0])\n",
    "                    MetID.annotation['pubchem.compound'] = PubChem_Met.sids[0]\n",
    "                    #print(PubChem_Met.sids[0])\n",
    "    except Exception:\n",
    "        pass\n",
    "                \n"
   ]
  },
  {
   "cell_type": "code",
   "execution_count": null,
   "id": "f14af208",
   "metadata": {},
   "outputs": [],
   "source": []
  },
  {
   "cell_type": "code",
   "execution_count": 11,
   "id": "5f585af9",
   "metadata": {},
   "outputs": [],
   "source": [
    "cobra.io.save_json_model(DraftModel_Tmuris, \"Draft_Tmuris_V2.json\")\n",
    "cobra.io.write_sbml_model(DraftModel_Tmuris, \"Draft_Tmuris_V2.xml\")"
   ]
  }
 ],
 "metadata": {
  "kernelspec": {
   "display_name": "Python 3 (ipykernel)",
   "language": "python",
   "name": "python3"
  },
  "language_info": {
   "codemirror_mode": {
    "name": "ipython",
    "version": 3
   },
   "file_extension": ".py",
   "mimetype": "text/x-python",
   "name": "python",
   "nbconvert_exporter": "python",
   "pygments_lexer": "ipython3",
   "version": "3.9.15"
  }
 },
 "nbformat": 4,
 "nbformat_minor": 5
}
